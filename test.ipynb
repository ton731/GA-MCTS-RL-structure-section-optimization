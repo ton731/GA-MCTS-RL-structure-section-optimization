{
 "cells": [
  {
   "cell_type": "code",
   "execution_count": null,
   "metadata": {},
   "outputs": [],
   "source": [
    "import sys\n",
    "sys.path.append('Utils/')\n",
    "sys.path.append('Searching/')\n",
    "sys.path.append('Models/')\n",
    "\n",
    "\n",
    "from Searching import MonteCarloTreeSearch\n",
    "from Searching import Agent\n",
    "from Searching import Environment\n",
    "\n",
    "\n",
    "\n",
    "\n",
    "# Define simulator model path and the ground motion number that will be used in seismic performance.\n",
    "simulator_path = \"Simulator/2022_05_27__22_01_14\"\n",
    "ground_motion_number = 3\n",
    "\n",
    "# Environment\n",
    "env_args = {\"simulator_path\": simulator_path, \"ground_motion_number\": ground_motion_number, \"method\": \"MCTS\"}\n",
    "env = Environment.StructureSimulator(**env_args)\n",
    "\n",
    "# Agent\n",
    "agent_args = {\"mode\": \"story\", \"environment\": env}\n",
    "agent = Agent.StructureDesigner(**agent_args)\n"
   ]
  },
  {
   "cell_type": "code",
   "execution_count": null,
   "metadata": {},
   "outputs": [],
   "source": [
    "print(agent.element_category_list)"
   ]
  },
  {
   "cell_type": "code",
   "execution_count": null,
   "metadata": {},
   "outputs": [],
   "source": [
    "print(agent.each_element_category_list)"
   ]
  },
  {
   "cell_type": "code",
   "execution_count": null,
   "metadata": {},
   "outputs": [],
   "source": [
    "agent.get_state()"
   ]
  },
  {
   "cell_type": "code",
   "execution_count": null,
   "metadata": {},
   "outputs": [],
   "source": []
  }
 ],
 "metadata": {
  "interpreter": {
   "hash": "098ab165a00c1e86fcca7b94b313d95bfe26ef3c0de5646d1634f098d9879702"
  },
  "kernelspec": {
   "display_name": "Python 3.7.11 ('GNN')",
   "language": "python",
   "name": "python3"
  },
  "language_info": {
   "codemirror_mode": {
    "name": "ipython",
    "version": 3
   },
   "file_extension": ".py",
   "mimetype": "text/x-python",
   "name": "python",
   "nbconvert_exporter": "python",
   "pygments_lexer": "ipython3",
   "version": "3.7.11"
  },
  "orig_nbformat": 4
 },
 "nbformat": 4,
 "nbformat_minor": 2
}
